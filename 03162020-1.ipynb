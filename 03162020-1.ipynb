{
 "cells": [
  {
   "cell_type": "code",
   "execution_count": 1,
   "metadata": {},
   "outputs": [],
   "source": [
    "import numpy as np\n",
    "import matplotlib.pyplot as plt"
   ]
  },
  {
   "cell_type": "code",
   "execution_count": 2,
   "metadata": {},
   "outputs": [],
   "source": [
    "x=np.random.random((100,1))"
   ]
  },
  {
   "cell_type": "code",
   "execution_count": 4,
   "metadata": {},
   "outputs": [
    {
     "data": {
      "image/png": "[encoded data removed]",
      "text/plain": [
       "<Figure size 576x576 with 1 Axes>"
      ]
     },
     "metadata": {
      "needs_background": "light"
     },
     "output_type": "display_data"
    }
   ],
   "source": [
    "fig, ax = plt.subplots(figsize=(8, 8))\n",
    "_ = ax.hist(x, bins=50)"
   ]
  },
  {
   "cell_type": "code",
   "execution_count": 5,
   "metadata": {},
   "outputs": [
    {
     "name": "stdout",
     "output_type": "stream",
     "text": [
      "[[0.93788059]\n",
      " [0.89027382]\n",
      " [0.7186832 ]\n",
      " [0.10668309]\n",
      " [0.87915509]\n",
      " [0.31695772]\n",
      " [0.32581164]\n",
      " [0.07632196]\n",
      " [0.50616953]\n",
      " [0.6162565 ]\n",
      " [0.78107505]\n",
      " [0.03361427]\n",
      " [0.66967584]\n",
      " [0.12842192]\n",
      " [0.8160083 ]\n",
      " [0.14859641]\n",
      " [0.19602016]\n",
      " [0.07980148]\n",
      " [0.3803851 ]\n",
      " [0.8439453 ]\n",
      " [0.19549658]\n",
      " [0.66121954]\n",
      " [0.43992497]\n",
      " [0.13944927]\n",
      " [0.79593523]\n",
      " [0.63010517]\n",
      " [0.20200203]\n",
      " [0.79766692]\n",
      " [0.16740298]\n",
      " [0.01978991]\n",
      " [0.33654037]\n",
      " [0.39058364]\n",
      " [0.94556963]\n",
      " [0.45993236]\n",
      " [0.92637331]\n",
      " [0.29204493]\n",
      " [0.912984  ]\n",
      " [0.45824405]\n",
      " [0.53731868]\n",
      " [0.10187481]\n",
      " [0.21017246]\n",
      " [0.33625565]\n",
      " [0.80133369]\n",
      " [0.43232568]\n",
      " [0.15824819]\n",
      " [0.04678472]\n",
      " [0.95832359]\n",
      " [0.91668441]\n",
      " [0.35691078]\n",
      " [0.67579335]\n",
      " [0.63564359]\n",
      " [0.88015479]\n",
      " [0.49377453]\n",
      " [0.97185894]\n",
      " [0.73194925]\n",
      " [0.1563474 ]\n",
      " [0.25219583]\n",
      " [0.12102142]\n",
      " [0.46707102]\n",
      " [0.37065663]\n",
      " [0.18874591]\n",
      " [0.60844486]\n",
      " [0.47927401]\n",
      " [0.72379016]\n",
      " [0.37494949]\n",
      " [0.95180897]\n",
      " [0.14364762]\n",
      " [0.87837732]\n",
      " [0.68542854]\n",
      " [0.65114709]\n",
      " [0.60428635]\n",
      " [0.98382123]\n",
      " [0.36630656]\n",
      " [0.138784  ]\n",
      " [0.74843885]\n",
      " [0.35692483]\n",
      " [0.59424995]\n",
      " [0.0977237 ]\n",
      " [0.47850744]\n",
      " [0.50141471]\n",
      " [0.44581894]\n",
      " [0.63660479]\n",
      " [0.34856678]\n",
      " [0.98975469]\n",
      " [0.74845404]\n",
      " [0.80299959]\n",
      " [0.91329507]\n",
      " [0.54963224]\n",
      " [0.20054566]\n",
      " [0.06773859]\n",
      " [0.00788038]\n",
      " [0.52134028]\n",
      " [0.8597327 ]\n",
      " [0.8051367 ]\n",
      " [0.33997732]\n",
      " [0.22712483]\n",
      " [0.40094997]\n",
      " [0.31511221]\n",
      " [0.75375515]\n",
      " [0.37631744]]\n"
     ]
    }
   ],
   "source": [
    "print(x)"
   ]
  },
  {
   "cell_type": "code",
   "execution_count": null,
   "metadata": {},
   "outputs": [],
   "source": []
  }
 ],
 "metadata": {
  "kernelspec": {
   "display_name": "Python 3",
   "language": "python",
   "name": "python3"
  },
  "language_info": {
   "codemirror_mode": {
    "name": "ipython",
    "version": 3
   },
   "file_extension": ".py",
   "mimetype": "text/x-python",
   "name": "python",
   "nbconvert_exporter": "python",
   "pygments_lexer": "ipython3",
   "version": "3.7.1"
  }
 },
 "nbformat": 4,
 "nbformat_minor": 2
}
